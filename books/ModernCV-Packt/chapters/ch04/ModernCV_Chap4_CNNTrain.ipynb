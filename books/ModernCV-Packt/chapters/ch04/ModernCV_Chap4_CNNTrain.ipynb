{
  "nbformat": 4,
  "nbformat_minor": 0,
  "metadata": {
    "colab": {
      "provenance": [],
      "gpuType": "T4"
    },
    "kernelspec": {
      "name": "python3",
      "display_name": "Python 3"
    },
    "language_info": {
      "name": "python"
    },
    "accelerator": "GPU"
  },
  "cells": [
    {
      "cell_type": "markdown",
      "source": [
        "# Classifying Images with Deep CNNs"
      ],
      "metadata": {
        "id": "aH0sihodiIGZ"
      }
    },
    {
      "cell_type": "code",
      "source": [
        "import torch\n",
        "import torch.nn as nn\n",
        "import numpy as np\n",
        "import matplotlib.pyplot as plt\n",
        "%matplotlib inline\n",
        "\n",
        "from torchvision import datasets\n",
        "from torch.utils.data import Dataset, DataLoader\n",
        "\n",
        "device = 'cuda' if torch.cuda.is_available() else 'cpu'\n",
        "\n",
        "data_folder = '/dataset'\n",
        "fmnist = datasets.FashionMNIST(data_folder, download=True, train=True)\n",
        "\n",
        "tr_images = fmnist.data\n",
        "tr_targets = fmnist.targets\n",
        "\n",
        "val_fmnist = datasets.FashionMNIST(data_folder, download=True, train=False)\n",
        "val_images = val_fmnist.data\n",
        "val_targets = val_fmnist.targets"
      ],
      "metadata": {
        "id": "oMcaMoqaiKZF"
      },
      "execution_count": 25,
      "outputs": []
    },
    {
      "cell_type": "code",
      "source": [
        "class FMNISTDataset(Dataset):\n",
        "  def __init__(self, x, y):\n",
        "    x = x.float()/255\n",
        "    x = x.view(-1, 1, 28, 28)\n",
        "    self.x, self.y = x, y\n",
        "\n",
        "  def __getitem__(self, index):\n",
        "    x, y = self.x[index], self.y[index]\n",
        "    return x.to(device), y.to(device)\n",
        "\n",
        "  def __len__(self):\n",
        "    return len(self.x)"
      ],
      "metadata": {
        "id": "oHUN3aqfipjH"
      },
      "execution_count": 26,
      "outputs": []
    },
    {
      "cell_type": "code",
      "source": [
        "from torch.optim import SGD, Adam\n",
        "\n",
        "def get_model():\n",
        "  model = nn.Sequential(\n",
        "      nn.Conv2d(1, 64, kernel_size=3),\n",
        "      nn.MaxPool2d(2),\n",
        "      nn.ReLU(),\n",
        "      nn.Conv2d(64, 128, kernel_size=3),\n",
        "      nn.MaxPool2d(2),\n",
        "      nn.ReLU(),\n",
        "      nn.Flatten(),\n",
        "      nn.Linear(3200, 256),\n",
        "      nn.ReLU(),\n",
        "      nn.Linear(256, 10)\n",
        "  ).to(device)\n",
        "\n",
        "  loss_fn = nn.CrossEntropyLoss()\n",
        "  optimizer = Adam(model.parameters(), lr=1e-3)\n",
        "\n",
        "  return model, loss_fn, optimizer"
      ],
      "metadata": {
        "id": "gTM252JTjSDw"
      },
      "execution_count": 27,
      "outputs": []
    },
    {
      "cell_type": "code",
      "source": [
        "!pip install torch_summary\n",
        "from torchsummary import summary\n",
        "\n",
        "model, loss_fn, optimizer = get_model()\n",
        "summary(model, torch.zeros(1, 1, 28, 28))"
      ],
      "metadata": {
        "colab": {
          "base_uri": "https://localhost:8080/"
        },
        "id": "IjqCzbVhj5A8",
        "outputId": "7dcfb66b-7b3a-4b7f-e893-addee00650ea"
      },
      "execution_count": 28,
      "outputs": [
        {
          "output_type": "stream",
          "name": "stdout",
          "text": [
            "Requirement already satisfied: torch_summary in /usr/local/lib/python3.11/dist-packages (1.4.5)\n",
            "==========================================================================================\n",
            "Layer (type:depth-idx)                   Output Shape              Param #\n",
            "==========================================================================================\n",
            "├─Conv2d: 1-1                            [-1, 64, 26, 26]          640\n",
            "├─MaxPool2d: 1-2                         [-1, 64, 13, 13]          --\n",
            "├─ReLU: 1-3                              [-1, 64, 13, 13]          --\n",
            "├─Conv2d: 1-4                            [-1, 128, 11, 11]         73,856\n",
            "├─MaxPool2d: 1-5                         [-1, 128, 5, 5]           --\n",
            "├─ReLU: 1-6                              [-1, 128, 5, 5]           --\n",
            "├─Flatten: 1-7                           [-1, 3200]                --\n",
            "├─Linear: 1-8                            [-1, 256]                 819,456\n",
            "├─ReLU: 1-9                              [-1, 256]                 --\n",
            "├─Linear: 1-10                           [-1, 10]                  2,570\n",
            "==========================================================================================\n",
            "Total params: 896,522\n",
            "Trainable params: 896,522\n",
            "Non-trainable params: 0\n",
            "Total mult-adds (M): 10.13\n",
            "==========================================================================================\n",
            "Input size (MB): 0.00\n",
            "Forward/backward pass size (MB): 0.45\n",
            "Params size (MB): 3.42\n",
            "Estimated Total Size (MB): 3.87\n",
            "==========================================================================================\n"
          ]
        },
        {
          "output_type": "execute_result",
          "data": {
            "text/plain": [
              "==========================================================================================\n",
              "Layer (type:depth-idx)                   Output Shape              Param #\n",
              "==========================================================================================\n",
              "├─Conv2d: 1-1                            [-1, 64, 26, 26]          640\n",
              "├─MaxPool2d: 1-2                         [-1, 64, 13, 13]          --\n",
              "├─ReLU: 1-3                              [-1, 64, 13, 13]          --\n",
              "├─Conv2d: 1-4                            [-1, 128, 11, 11]         73,856\n",
              "├─MaxPool2d: 1-5                         [-1, 128, 5, 5]           --\n",
              "├─ReLU: 1-6                              [-1, 128, 5, 5]           --\n",
              "├─Flatten: 1-7                           [-1, 3200]                --\n",
              "├─Linear: 1-8                            [-1, 256]                 819,456\n",
              "├─ReLU: 1-9                              [-1, 256]                 --\n",
              "├─Linear: 1-10                           [-1, 10]                  2,570\n",
              "==========================================================================================\n",
              "Total params: 896,522\n",
              "Trainable params: 896,522\n",
              "Non-trainable params: 0\n",
              "Total mult-adds (M): 10.13\n",
              "==========================================================================================\n",
              "Input size (MB): 0.00\n",
              "Forward/backward pass size (MB): 0.45\n",
              "Params size (MB): 3.42\n",
              "Estimated Total Size (MB): 3.87\n",
              "=========================================================================================="
            ]
          },
          "metadata": {},
          "execution_count": 28
        }
      ]
    },
    {
      "cell_type": "code",
      "source": [
        "def train_batch(x, y, model, opt, loss_fn):\n",
        "  model.train()\n",
        "\n",
        "  pred = model(x)\n",
        "  batch_loss = loss_fn(pred, y)\n",
        "  batch_loss.backward()\n",
        "  opt.step()\n",
        "  opt.zero_grad()\n",
        "\n",
        "  return batch_loss.item()"
      ],
      "metadata": {
        "id": "idPbOYnskElB"
      },
      "execution_count": 29,
      "outputs": []
    },
    {
      "cell_type": "code",
      "source": [
        "@torch.no_grad()\n",
        "def accuracy(x, y, model):\n",
        "  model.eval()\n",
        "\n",
        "  pred = model(x)\n",
        "  max_values, argmaxes = pred.max(-1)\n",
        "  is_correct = argmaxes == y\n",
        "\n",
        "  return is_correct.cpu().numpy().tolist()"
      ],
      "metadata": {
        "id": "Uj1ct_l2k3Eo"
      },
      "execution_count": 30,
      "outputs": []
    },
    {
      "cell_type": "code",
      "source": [
        "def get_data():\n",
        "  train = FMNISTDataset(tr_images, tr_targets)\n",
        "  trn_dl = DataLoader(train, batch_size=32, shuffle=True)\n",
        "  val = FMNISTDataset(val_images, val_targets)\n",
        "  val_dl = DataLoader(val, batch_size=len(val_images), shuffle=True)\n",
        "\n",
        "  return trn_dl, val_dl"
      ],
      "metadata": {
        "id": "-SGwoKO4lIrx"
      },
      "execution_count": 31,
      "outputs": []
    },
    {
      "cell_type": "code",
      "source": [
        "@torch.no_grad()\n",
        "def val_loss(x, y, model):\n",
        "  model.eval()\n",
        "\n",
        "  pred = model(x)\n",
        "  val_loss = loss_fn(pred, y)\n",
        "\n",
        "  return val_loss.item()"
      ],
      "metadata": {
        "id": "QEy55sfclesx"
      },
      "execution_count": 32,
      "outputs": []
    },
    {
      "cell_type": "code",
      "source": [
        "trn_dl, val_dl = get_data()\n",
        "model, loss_fn, optimizer = get_model()"
      ],
      "metadata": {
        "id": "c_bWkEY0lsGf"
      },
      "execution_count": 33,
      "outputs": []
    },
    {
      "cell_type": "code",
      "source": [
        "train_losses, train_accuracies = [], []\n",
        "val_losses, val_accuracies = [], []\n",
        "\n",
        "for epoch in range(5):\n",
        "  print(epoch)\n",
        "  train_epoch_losses, train_epoch_accuracies = [], []\n",
        "\n",
        "  for ix, batch in enumerate(iter(trn_dl)):\n",
        "    x, y = batch\n",
        "    batch_loss = train_batch(x, y, model, optimizer, loss_fn)\n",
        "    train_epoch_losses.append(batch_loss)\n",
        "  train_epoch_loss = np.array(train_epoch_losses).mean()\n",
        "\n",
        "  for ix, batch in enumerate(iter(trn_dl)):\n",
        "    x, y = batch\n",
        "    is_correct = accuracy(x, y, model)\n",
        "    train_epoch_accuracies.extend(is_correct)\n",
        "  train_epoch_accuracy = np.mean(train_epoch_accuracies)\n",
        "\n",
        "  for ix, batch in enumerate(iter(val_dl)):\n",
        "    x, y = batch\n",
        "    val_is_correct = accuracy(x, y, model)\n",
        "    validation_loss = val_loss(x, y, model)\n",
        "  val_epoch_accuracy = np.mean(val_is_correct)\n",
        "\n",
        "  train_losses.append(train_epoch_loss)\n",
        "  train_accuracies.append(train_epoch_accuracy)\n",
        "  val_losses.append(validation_loss)\n",
        "  val_accuracies.append(val_epoch_accuracy)"
      ],
      "metadata": {
        "colab": {
          "base_uri": "https://localhost:8080/"
        },
        "id": "8OhI_xvWluxg",
        "outputId": "ea9b98b2-a549-4408-c1dd-b2a100119f0f"
      },
      "execution_count": 34,
      "outputs": [
        {
          "output_type": "stream",
          "name": "stdout",
          "text": [
            "0\n",
            "1\n",
            "2\n",
            "3\n",
            "4\n"
          ]
        }
      ]
    },
    {
      "cell_type": "code",
      "source": [
        "import matplotlib.ticker as mtick\n",
        "import matplotlib.pyplot as plt\n",
        "import matplotlib.ticker as mticker\n",
        "%matplotlib inline\n",
        "\n",
        "epochs = np.arange(5)+1\n",
        "\n",
        "plt.subplot(211)\n",
        "plt.plot(epochs, train_losses, 'bo', label='Training loss')\n",
        "plt.plot(epochs, val_losses, 'r', label='Validation loss')\n",
        "plt.gca().xaxis.set_major_locator(mticker.MultipleLocator(1))\n",
        "plt.title('Training and validation loss with CNN')\n",
        "plt.xlabel('Epochs')\n",
        "plt.ylabel('Loss')\n",
        "plt.legend()\n",
        "plt.grid('off')\n",
        "plt.show()\n",
        "\n",
        "plt.subplot(212)\n",
        "plt.plot(epochs, train_accuracies, 'bo', label='Training accuracy')\n",
        "plt.plot(epochs, val_accuracies, 'r', label='Validation accuracy')\n",
        "plt.gca().xaxis.set_major_locator(mticker.MultipleLocator(1))\n",
        "plt.title('Training and validation accuracy with CNN')\n",
        "plt.xlabel('Epochs')\n",
        "plt.ylabel('Accuracy')\n",
        "plt.gca().set_yticklabels(['{:.0f}%'.format(x*100) for x in plt.gca().get_yticks()])\n",
        "plt.legend()\n",
        "plt.grid('off')\n",
        "plt.show()"
      ],
      "metadata": {
        "colab": {
          "base_uri": "https://localhost:8080/",
          "height": 578
        },
        "id": "tPoNfENhnQI4",
        "outputId": "bcadd331-0143-43a8-fc74-38210013f141"
      },
      "execution_count": 35,
      "outputs": [
        {
          "output_type": "display_data",
          "data": {
            "text/plain": [
              "<Figure size 640x480 with 1 Axes>"
            ],
            "image/png": "[encoded data removed]"
          },
          "metadata": {}
        },
        {
          "output_type": "stream",
          "name": "stderr",
          "text": [
            "/tmp/ipython-input-590904589.py:26: UserWarning: set_ticklabels() should only be used with a fixed number of ticks, i.e. after set_ticks() or using a FixedLocator.\n",
            "  plt.gca().set_yticklabels(['{:.0f}%'.format(x*100) for x in plt.gca().get_yticks()])\n"
          ]
        },
        {
          "output_type": "display_data",
          "data": {
            "text/plain": [
              "<Figure size 640x480 with 1 Axes>"
            ],
            "image/png": "[encoded data removed]"
          },
          "metadata": {}
        }
      ]
    }
  ]
}