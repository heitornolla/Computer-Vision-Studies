{
  "nbformat": 4,
  "nbformat_minor": 0,
  "metadata": {
    "colab": {
      "provenance": []
    },
    "kernelspec": {
      "name": "python3",
      "display_name": "Python 3"
    },
    "language_info": {
      "name": "python"
    }
  },
  "cells": [
    {
      "cell_type": "code",
      "execution_count": 66,
      "metadata": {
        "id": "yAo3Mx0Bp2uS"
      },
      "outputs": [],
      "source": [
        "import numpy as np\n",
        "from copy import deepcopy"
      ]
    },
    {
      "cell_type": "code",
      "source": [
        "def feed_forward(inputs, outputs, weights):\n",
        "  pre_hidden = np.dot(inputs, weights[0]) + weights[1]\n",
        "  hidden = 1 / (1 + np.exp(-pre_hidden)) # sigmoid\n",
        "  pred_out = np.dot(hidden, weights[2]) + weights[3]\n",
        "  mse = np.mean(np.square(pred_out - outputs))\n",
        "\n",
        "  return mse"
      ],
      "metadata": {
        "id": "4eSZub-9QxLP"
      },
      "execution_count": 67,
      "outputs": []
    },
    {
      "cell_type": "code",
      "source": [
        "# Activation Functions\n",
        "def tanh(x):\n",
        "  return (np.exp(x) - np.exp(-x))/(np.exp(x) + np.exp(-x))\n",
        "\n",
        "def relu(x):\n",
        "  return np.where(x>0, x, 0)\n",
        "\n",
        "def linear(x):\n",
        "  return x\n",
        "\n",
        "def softmax(x):\n",
        "  return np.exp(x)/np.sum(np.exp(x))"
      ],
      "metadata": {
        "id": "H3REp5gFRtzB"
      },
      "execution_count": 68,
      "outputs": []
    },
    {
      "cell_type": "code",
      "source": [
        "# Loss Functions\n",
        "\n",
        "# Where:\n",
        "#   p is the predicted output\n",
        "#   y is the actual output\n",
        "\n",
        "def mse(p, y):\n",
        "  return np.mean(np.square(p - y))\n",
        "\n",
        "def mae(p, y):\n",
        "  return np.mean(np.abs(p - y))\n",
        "\n",
        "def bce(p, y):\n",
        "  return -np.mean((y*np.log(p) + (1-y) * np.log(1-p)))\n",
        "\n",
        "def cce(p, y):\n",
        "  return -np.mean(np.log( p[np.arrange(len(y)), y] ))"
      ],
      "metadata": {
        "id": "ceHyLETCSmzj"
      },
      "execution_count": 69,
      "outputs": []
    },
    {
      "cell_type": "code",
      "source": [
        "# Gradient Descent\n",
        "\n",
        "def update_weights(inputs, outputs, weights, lr):\n",
        "  original_weights = deepcopy(weights)\n",
        "  temp_weights = deepcopy(weights)\n",
        "  updated_weights = deepcopy(weights)\n",
        "\n",
        "  original_loss = feed_forward(inputs, outputs, original_weights)\n",
        "\n",
        "  for i, layer in enumerate(original_weights):\n",
        "    for index, weight in np.ndenumerate(layer):\n",
        "      temp_weights = deepcopy(weights)\n",
        "      temp_weights[i][index] += 0.0001\n",
        "\n",
        "      _loss_plus = feed_forward(inputs, outputs, temp_weights)\n",
        "      grad = (_loss_plus - original_loss)/0.0001\n",
        "\n",
        "      updated_weights[i][index] -= grad * lr\n",
        "\n",
        "  return updated_weights, original_loss\n"
      ],
      "metadata": {
        "id": "H-m2eme4awsP"
      },
      "execution_count": 70,
      "outputs": []
    },
    {
      "cell_type": "code",
      "source": [
        "# Our \"dataset\"\n",
        "\n",
        "x = np.array([[1, 1]])\n",
        "y = np.array([[0]])"
      ],
      "metadata": {
        "id": "zAZRHDkGfe2z"
      },
      "execution_count": 71,
      "outputs": []
    },
    {
      "cell_type": "code",
      "source": [
        "# The hidden layer has three units in it and each input node is connected to\n",
        "#   each of the hidden layer units. Hence, there are a total of six weight\n",
        "#   values and three bias values\n",
        "\n",
        "#  Additionally, the final layer has one unit that is connected to the three\n",
        "#    units of the hidden layer.\n",
        "\n",
        "W = [\n",
        "    np.array([[-0.0053, 0.3793],\n",
        "              [-0.5820, -0.5204],\n",
        "              [-0.2723, 0.1896]], dtype=np.float32).T,\n",
        "    np.array([-0.0140, 0.5607, -0.0628], dtype=np.float32),\n",
        "    np.array([[ 0.1528,-0.1745,-0.1135]],dtype=np.float32).T,\n",
        "    np.array([-0.5516], dtype=np.float32)\n",
        "    ]"
      ],
      "metadata": {
        "id": "d0vuSEFqkSmE"
      },
      "execution_count": 72,
      "outputs": []
    },
    {
      "cell_type": "code",
      "source": [
        "losses = []\n",
        "\n",
        "for epoch in range(100):\n",
        "  W, loss = update_weights(x, y, W, 0.01)\n",
        "  losses.append(loss)"
      ],
      "metadata": {
        "id": "If_eGDvWkub4"
      },
      "execution_count": 73,
      "outputs": []
    },
    {
      "cell_type": "code",
      "source": [
        "import matplotlib.pyplot as plt\n",
        "%matplotlib inline\n",
        "\n",
        "plt.plot(losses)\n",
        "plt.title('Loss over epochs')\n",
        "plt.xlabel('Epochs')\n",
        "plt.ylabel('Values')"
      ],
      "metadata": {
        "colab": {
          "base_uri": "https://localhost:8080/",
          "height": 489
        },
        "id": "WfWd9fX5lJ2C",
        "outputId": "0fbd41f5-e6ea-4966-926c-f17f071fb02e"
      },
      "execution_count": 74,
      "outputs": [
        {
          "output_type": "execute_result",
          "data": {
            "text/plain": [
              "Text(0, 0.5, 'Values')"
            ]
          },
          "metadata": {},
          "execution_count": 74
        },
        {
          "output_type": "display_data",
          "data": {
            "text/plain": [
              "<Figure size 640x480 with 1 Axes>"
            ],
            "image/png": "[encoded data removed]"
          },
          "metadata": {}
        }
      ]
    },
    {
      "cell_type": "code",
      "source": [
        "W"
      ],
      "metadata": {
        "colab": {
          "base_uri": "https://localhost:8080/"
        },
        "id": "b5mFN3B8lahW",
        "outputId": "574ae317-9144-419c-c935-cc579ea3c854"
      },
      "execution_count": 75,
      "outputs": [
        {
          "output_type": "execute_result",
          "data": {
            "text/plain": [
              "[array([[ 0.01424004, -0.5907864 , -0.27549535],\n",
              "        [ 0.39883757, -0.52918637,  0.18640439]], dtype=float32),\n",
              " array([ 0.00554004,  0.5519136 , -0.06599568], dtype=float32),\n",
              " array([[ 0.3475135 ],\n",
              "        [-0.05529078],\n",
              "        [ 0.03760847]], dtype=float32),\n",
              " array([-0.22443289], dtype=float32)]"
            ]
          },
          "metadata": {},
          "execution_count": 75
        }
      ]
    },
    {
      "cell_type": "code",
      "source": [
        "def get_prediction():\n",
        "  pre_hidden = np.dot(x, W[0]) + W[1]\n",
        "  hidden = 1/(1+np.exp(-pre_hidden))\n",
        "  pred_out = np.dot(hidden, W[2]) + W[3]\n",
        "\n",
        "  return pred_out"
      ],
      "metadata": {
        "id": "pP4T3vKPmcfw"
      },
      "execution_count": 76,
      "outputs": []
    },
    {
      "cell_type": "code",
      "source": [
        "get_prediction()"
      ],
      "metadata": {
        "colab": {
          "base_uri": "https://localhost:8080/"
        },
        "id": "sKFnFgf3mWMy",
        "outputId": "0e31f653-66b4-4584-8961-144474332410"
      },
      "execution_count": 77,
      "outputs": [
        {
          "output_type": "execute_result",
          "data": {
            "text/plain": [
              "array([[-0.0174781]])"
            ]
          },
          "metadata": {},
          "execution_count": 77
        }
      ]
    },
    {
      "cell_type": "markdown",
      "source": [
        "Training a neural network is a process of coming up with optimal weights for a\n",
        " neural network architecture by repeating the two key steps, forward-propagation and\n",
        " backpropagation with a given learning rate."
      ],
      "metadata": {
        "id": "SYIvIuBMubkr"
      }
    }
  ]
}