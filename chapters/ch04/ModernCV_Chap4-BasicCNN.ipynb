{
  "nbformat": 4,
  "nbformat_minor": 0,
  "metadata": {
    "colab": {
      "provenance": [],
      "gpuType": "T4"
    },
    "kernelspec": {
      "name": "python3",
      "display_name": "Python 3"
    },
    "language_info": {
      "name": "python"
    },
    "accelerator": "GPU"
  },
  "cells": [
    {
      "cell_type": "code",
      "source": [
        "import torch\n",
        "import torch.nn as nn\n",
        "import numpy as np\n",
        "import matplotlib.pyplot as plt\n",
        "%matplotlib inline\n",
        "\n",
        "from torch.utils.data import TensorDataset, Dataset, DataLoader\n",
        "from torch.optim import Adam\n",
        "from torchvision import datasets\n",
        "\n",
        "device = 'cuda' if torch.cuda.is_available() else 'cpu'"
      ],
      "metadata": {
        "id": "dUPV8t_2dvrm"
      },
      "execution_count": 1,
      "outputs": []
    },
    {
      "cell_type": "code",
      "source": [
        "X_train = torch.tensor([[[[1,2,3,4],[2,3,4,5],\n",
        "                          [5,6,7,8],[1,3,4,5]]],\n",
        "                        [[[-1,2,3,-4],[2,-3,4,5],\n",
        "                          [-5,6,-7,8],[-1,-3,-4,-5]]]]\n",
        "                       ).to(device).float()\n",
        "\n",
        "X_train /= 8\n",
        "y_train = torch.tensor([0,1]).to(device).float()"
      ],
      "metadata": {
        "id": "0UY8AAsreGAk"
      },
      "execution_count": 3,
      "outputs": []
    },
    {
      "cell_type": "code",
      "source": [
        "def get_model():\n",
        "  model = nn.Sequential(\n",
        "      nn.Conv2d(1, 1, kernel_size=3),\n",
        "      nn.MaxPool2d(2),\n",
        "      nn.ReLU(),\n",
        "      nn.Flatten(),\n",
        "      nn.Linear(1, 1),\n",
        "      nn.Sigmoid()\n",
        "  ).to(device)\n",
        "\n",
        "  loss_fn = nn.BCELoss()\n",
        "  optimizer = Adam(model.parameters(), lr=1e-3)\n",
        "\n",
        "  return model, loss_fn, optimizer"
      ],
      "metadata": {
        "id": "NPfEPRjoeTnP"
      },
      "execution_count": 4,
      "outputs": []
    },
    {
      "cell_type": "code",
      "source": [
        "!pip install torch_summary\n",
        "from torchsummary import summary\n",
        "\n",
        "model, loss_fn, optimizer = get_model()\n",
        "summary(model, X_train)"
      ],
      "metadata": {
        "colab": {
          "base_uri": "https://localhost:8080/"
        },
        "id": "MZoCXEjSe89P",
        "outputId": "15ff1591-7397-4af7-d860-bc91f806d060"
      },
      "execution_count": 6,
      "outputs": [
        {
          "output_type": "stream",
          "name": "stdout",
          "text": [
            "==========================================================================================\n",
            "Layer (type:depth-idx)                   Output Shape              Param #\n",
            "==========================================================================================\n",
            "├─Conv2d: 1-1                            [-1, 1, 2, 2]             10\n",
            "├─MaxPool2d: 1-2                         [-1, 1, 1, 1]             --\n",
            "├─ReLU: 1-3                              [-1, 1, 1, 1]             --\n",
            "├─Flatten: 1-4                           [-1, 1]                   --\n",
            "├─Linear: 1-5                            [-1, 1]                   2\n",
            "├─Sigmoid: 1-6                           [-1, 1]                   --\n",
            "==========================================================================================\n",
            "Total params: 12\n",
            "Trainable params: 12\n",
            "Non-trainable params: 0\n",
            "Total mult-adds (M): 0.00\n",
            "==========================================================================================\n",
            "Input size (MB): 0.00\n",
            "Forward/backward pass size (MB): 0.00\n",
            "Params size (MB): 0.00\n",
            "Estimated Total Size (MB): 0.00\n",
            "==========================================================================================\n"
          ]
        },
        {
          "output_type": "execute_result",
          "data": {
            "text/plain": [
              "==========================================================================================\n",
              "Layer (type:depth-idx)                   Output Shape              Param #\n",
              "==========================================================================================\n",
              "├─Conv2d: 1-1                            [-1, 1, 2, 2]             10\n",
              "├─MaxPool2d: 1-2                         [-1, 1, 1, 1]             --\n",
              "├─ReLU: 1-3                              [-1, 1, 1, 1]             --\n",
              "├─Flatten: 1-4                           [-1, 1]                   --\n",
              "├─Linear: 1-5                            [-1, 1]                   2\n",
              "├─Sigmoid: 1-6                           [-1, 1]                   --\n",
              "==========================================================================================\n",
              "Total params: 12\n",
              "Trainable params: 12\n",
              "Non-trainable params: 0\n",
              "Total mult-adds (M): 0.00\n",
              "==========================================================================================\n",
              "Input size (MB): 0.00\n",
              "Forward/backward pass size (MB): 0.00\n",
              "Params size (MB): 0.00\n",
              "Estimated Total Size (MB): 0.00\n",
              "=========================================================================================="
            ]
          },
          "metadata": {},
          "execution_count": 6
        }
      ]
    },
    {
      "cell_type": "code",
      "source": [
        "def train_batch(x, y, model, opt, loss_fn):\n",
        "  model.train()\n",
        "\n",
        "  pred = model(x)\n",
        "  batch_loss = loss_fn(pred.squeeze(0), y)\n",
        "  batch_loss.backward()\n",
        "  opt.step()\n",
        "  opt.zero_grad()\n",
        "\n",
        "  return batch_loss.item()"
      ],
      "metadata": {
        "id": "2g9RH3m8fTxA"
      },
      "execution_count": 7,
      "outputs": []
    },
    {
      "cell_type": "code",
      "source": [
        "trn_dl = DataLoader(TensorDataset(X_train, y_train))"
      ],
      "metadata": {
        "id": "tkrLaBb4g4dk"
      },
      "execution_count": 8,
      "outputs": []
    },
    {
      "cell_type": "code",
      "source": [
        "for epoch in range(2000):\n",
        "  for ix, batch in enumerate(iter(trn_dl)):\n",
        "    x, y = batch\n",
        "    batch_loss = train_batch(x, y, model, optimizer, loss_fn)"
      ],
      "metadata": {
        "id": "hxMb8s4Dg_ly"
      },
      "execution_count": 9,
      "outputs": []
    },
    {
      "cell_type": "code",
      "source": [
        "model(X_train[:1])"
      ],
      "metadata": {
        "colab": {
          "base_uri": "https://localhost:8080/"
        },
        "id": "JLy7dRdVhNDc",
        "outputId": "c9a3d0d1-d25b-43f9-e962-811cc1136e79"
      },
      "execution_count": 10,
      "outputs": [
        {
          "output_type": "execute_result",
          "data": {
            "text/plain": [
              "tensor([[0.1439]], device='cuda:0', grad_fn=<SigmoidBackward0>)"
            ]
          },
          "metadata": {},
          "execution_count": 10
        }
      ]
    },
    {
      "cell_type": "code",
      "source": [
        "list(model.children())"
      ],
      "metadata": {
        "colab": {
          "base_uri": "https://localhost:8080/"
        },
        "id": "8pq6VjMfhTt1",
        "outputId": "ff23d490-ab8e-49a5-c035-0aaf611d4e09"
      },
      "execution_count": 11,
      "outputs": [
        {
          "output_type": "execute_result",
          "data": {
            "text/plain": [
              "[Conv2d(1, 1, kernel_size=(3, 3), stride=(1, 1)),\n",
              " MaxPool2d(kernel_size=2, stride=2, padding=0, dilation=1, ceil_mode=False),\n",
              " ReLU(),\n",
              " Flatten(start_dim=1, end_dim=-1),\n",
              " Linear(in_features=1, out_features=1, bias=True),\n",
              " Sigmoid()]"
            ]
          },
          "metadata": {},
          "execution_count": 11
        }
      ]
    }
  ]
}