{
  "nbformat": 4,
  "nbformat_minor": 0,
  "metadata": {
    "colab": {
      "provenance": [],
      "gpuType": "T4"
    },
    "kernelspec": {
      "name": "python3",
      "display_name": "Python 3"
    },
    "language_info": {
      "name": "python"
    },
    "accelerator": "GPU"
  },
  "cells": [
    {
      "cell_type": "code",
      "source": [
        "import torch\n",
        "print(torch.__version__)"
      ],
      "metadata": {
        "colab": {
          "base_uri": "https://localhost:8080/"
        },
        "id": "mJ57yYAQl_CZ",
        "outputId": "e83a89c0-c9d4-4489-99b0-54ce91bcb485"
      },
      "execution_count": 174,
      "outputs": [
        {
          "output_type": "stream",
          "name": "stdout",
          "text": [
            "2.6.0+cu124\n"
          ]
        }
      ]
    },
    {
      "cell_type": "code",
      "source": [
        "x = torch.tensor([[1, 2]])\n",
        "y = torch.tensor([[1], [2]])\n",
        "\n",
        "print(x.shape, y.shape)"
      ],
      "metadata": {
        "colab": {
          "base_uri": "https://localhost:8080/"
        },
        "id": "uxnQ8CevmAD0",
        "outputId": "e39e0656-a381-4e64-9a7b-36c8dfe0122d"
      },
      "execution_count": 175,
      "outputs": [
        {
          "output_type": "stream",
          "name": "stdout",
          "text": [
            "torch.Size([1, 2]) torch.Size([2, 1])\n"
          ]
        }
      ]
    },
    {
      "cell_type": "markdown",
      "source": [
        "#  Auto gradients of tensor objects\n"
      ],
      "metadata": {
        "id": "q_t839w_okJW"
      }
    },
    {
      "cell_type": "code",
      "source": [
        "x = torch.tensor([[2., -1.],\n",
        "                  [1., 1.]],\n",
        "                 requires_grad=True)\n",
        "\n",
        "x"
      ],
      "metadata": {
        "colab": {
          "base_uri": "https://localhost:8080/"
        },
        "id": "wO63xYk4omBg",
        "outputId": "32e926da-e803-4881-b454-0d7469c9a1b2"
      },
      "execution_count": 176,
      "outputs": [
        {
          "output_type": "execute_result",
          "data": {
            "text/plain": [
              "tensor([[ 2., -1.],\n",
              "        [ 1.,  1.]], requires_grad=True)"
            ]
          },
          "metadata": {},
          "execution_count": 176
        }
      ]
    },
    {
      "cell_type": "code",
      "source": [
        "out = x.pow(2).sum()\n",
        "\n",
        "out"
      ],
      "metadata": {
        "colab": {
          "base_uri": "https://localhost:8080/"
        },
        "id": "Sxsa5iAao0BJ",
        "outputId": "20164dd3-f238-40cc-bc91-59a1ef1419ca"
      },
      "execution_count": 177,
      "outputs": [
        {
          "output_type": "execute_result",
          "data": {
            "text/plain": [
              "tensor(7., grad_fn=<SumBackward0>)"
            ]
          },
          "metadata": {},
          "execution_count": 177
        }
      ]
    },
    {
      "cell_type": "code",
      "source": [
        "# gradient can be calculated by calling backward()\n",
        "# gradient = change in out for a small change input\n",
        "\n",
        "out.backward()\n",
        "x.grad"
      ],
      "metadata": {
        "colab": {
          "base_uri": "https://localhost:8080/"
        },
        "id": "QGVX39KGpEkF",
        "outputId": "3b32296c-b31c-4f27-e5d2-b48984f14895"
      },
      "execution_count": 178,
      "outputs": [
        {
          "output_type": "execute_result",
          "data": {
            "text/plain": [
              "tensor([[ 4., -2.],\n",
              "        [ 2.,  2.]])"
            ]
          },
          "metadata": {},
          "execution_count": 178
        }
      ]
    },
    {
      "cell_type": "markdown",
      "source": [
        "# Comparison of NumPy vs Torch on GPU"
      ],
      "metadata": {
        "id": "GK78ayN7qM5C"
      }
    },
    {
      "cell_type": "code",
      "source": [
        "x = torch.rand(1, 6400)\n",
        "y = torch.rand(6400, 5000)"
      ],
      "metadata": {
        "id": "3hg9UIHgpgAy"
      },
      "execution_count": 179,
      "outputs": []
    },
    {
      "cell_type": "code",
      "source": [
        "device = 'cuda' if torch.cuda.is_available() else 'cpu'\n",
        "\n",
        "x, y = x.to(device), y.to(device)"
      ],
      "metadata": {
        "id": "5tu_J38MqQd3"
      },
      "execution_count": 180,
      "outputs": []
    },
    {
      "cell_type": "code",
      "source": [
        "%timeit z = (x@y)"
      ],
      "metadata": {
        "colab": {
          "base_uri": "https://localhost:8080/"
        },
        "id": "SBckHTWVqWUV",
        "outputId": "25cb6c81-fe56-4db7-949d-4551600a539c"
      },
      "execution_count": 181,
      "outputs": [
        {
          "output_type": "stream",
          "name": "stdout",
          "text": [
            "569 µs ± 1.52 µs per loop (mean ± std. dev. of 7 runs, 1000 loops each)\n"
          ]
        }
      ]
    },
    {
      "cell_type": "code",
      "source": [
        "x, y = x.cpu(), y.cpu()"
      ],
      "metadata": {
        "id": "f5TfyzAJqepA"
      },
      "execution_count": 182,
      "outputs": []
    },
    {
      "cell_type": "code",
      "source": [
        "%timeit z = (x@y)"
      ],
      "metadata": {
        "colab": {
          "base_uri": "https://localhost:8080/"
        },
        "id": "4nZ-scKRq0Fn",
        "outputId": "0844ab48-6df0-4276-c99e-419e2dc95491"
      },
      "execution_count": 183,
      "outputs": [
        {
          "output_type": "stream",
          "name": "stdout",
          "text": [
            "10.4 ms ± 722 µs per loop (mean ± std. dev. of 7 runs, 100 loops each)\n"
          ]
        }
      ]
    },
    {
      "cell_type": "markdown",
      "source": [
        "# Building a neural network using PyTorch\n"
      ],
      "metadata": {
        "id": "9glOJZbZrRtA"
      }
    },
    {
      "cell_type": "code",
      "source": [
        "x = [[1,2], [3,4], [5,6], [7,8]]\n",
        "y = [[3], [7], [11], [15]]\n",
        "\n",
        "X = torch.tensor(x).float()\n",
        "Y = torch.tensor(y).float()\n",
        "\n",
        "device = 'cuda' if torch.cuda.is_available() else 'cpu'\n",
        "\n",
        "X, Y = X.to(device), Y.to(device)"
      ],
      "metadata": {
        "id": "nSjMEBh2rSe4"
      },
      "execution_count": 184,
      "outputs": []
    },
    {
      "cell_type": "code",
      "source": [
        "import torch.nn as nn\n",
        "\n",
        "class MyNeuralNet(nn.Module):\n",
        "  def __init__(self):\n",
        "    super().__init__()\n",
        "\n",
        "    self.input_to_hidden_layer = nn.Linear(2, 8)\n",
        "    self.hidden_layer_activation = nn.ReLU()\n",
        "    self.hidden_output_to_layer = nn.Linear(8, 1)\n",
        "\n",
        "  def forward(self, x):\n",
        "    x = self.input_to_hidden_layer(x)\n",
        "    x = self.hidden_layer_activation(x)\n",
        "    x = self.hidden_output_to_layer(x)\n",
        "\n",
        "    return x\n"
      ],
      "metadata": {
        "id": "bamuvyeWrodL"
      },
      "execution_count": 185,
      "outputs": []
    },
    {
      "cell_type": "code",
      "source": [
        "mynet = MyNeuralNet().to(device)\n",
        "\n",
        "mynet.input_to_hidden_layer.weight"
      ],
      "metadata": {
        "colab": {
          "base_uri": "https://localhost:8080/"
        },
        "id": "NAmvVAiirwaP",
        "outputId": "c1d4f011-87a1-48f9-ea4a-25176293bd15"
      },
      "execution_count": 186,
      "outputs": [
        {
          "output_type": "execute_result",
          "data": {
            "text/plain": [
              "Parameter containing:\n",
              "tensor([[-0.1606,  0.4541],\n",
              "        [-0.0769,  0.3312],\n",
              "        [-0.5268, -0.4063],\n",
              "        [ 0.4047, -0.0353],\n",
              "        [ 0.6494,  0.3919],\n",
              "        [ 0.4817, -0.6024],\n",
              "        [-0.2356,  0.1342],\n",
              "        [ 0.5205,  0.0032]], device='cuda:0', requires_grad=True)"
            ]
          },
          "metadata": {},
          "execution_count": 186
        }
      ]
    },
    {
      "cell_type": "code",
      "source": [
        "for parameter in mynet.parameters():\n",
        "  print(parameter)"
      ],
      "metadata": {
        "colab": {
          "base_uri": "https://localhost:8080/"
        },
        "id": "9bgUsbPqs8So",
        "outputId": "47f88927-f81f-4613-c9c2-c0b4f9224540"
      },
      "execution_count": 187,
      "outputs": [
        {
          "output_type": "stream",
          "name": "stdout",
          "text": [
            "Parameter containing:\n",
            "tensor([[-0.1606,  0.4541],\n",
            "        [-0.0769,  0.3312],\n",
            "        [-0.5268, -0.4063],\n",
            "        [ 0.4047, -0.0353],\n",
            "        [ 0.6494,  0.3919],\n",
            "        [ 0.4817, -0.6024],\n",
            "        [-0.2356,  0.1342],\n",
            "        [ 0.5205,  0.0032]], device='cuda:0', requires_grad=True)\n",
            "Parameter containing:\n",
            "tensor([-0.2625, -0.4469,  0.4783, -0.6908, -0.4059,  0.5272,  0.6373,  0.0890],\n",
            "       device='cuda:0', requires_grad=True)\n",
            "Parameter containing:\n",
            "tensor([[ 0.3090, -0.0014,  0.2968, -0.0861,  0.3039,  0.2542,  0.0906, -0.0573]],\n",
            "       device='cuda:0', requires_grad=True)\n",
            "Parameter containing:\n",
            "tensor([0.1312], device='cuda:0', requires_grad=True)\n"
          ]
        }
      ]
    },
    {
      "cell_type": "code",
      "source": [
        "loss = nn.MSELoss()"
      ],
      "metadata": {
        "id": "VUJChOiJtYvO"
      },
      "execution_count": 188,
      "outputs": []
    },
    {
      "cell_type": "code",
      "source": [
        "_Y = mynet(X)\n",
        "\n",
        "loss_value = loss(Y, _Y)\n",
        "loss_value"
      ],
      "metadata": {
        "colab": {
          "base_uri": "https://localhost:8080/"
        },
        "id": "uos5th70tpVN",
        "outputId": "d28954f7-fcaf-4d16-aca9-9b2a61e6e470"
      },
      "execution_count": 189,
      "outputs": [
        {
          "output_type": "execute_result",
          "data": {
            "text/plain": [
              "tensor(67.8054, device='cuda:0', grad_fn=<MseLossBackward0>)"
            ]
          },
          "metadata": {},
          "execution_count": 189
        }
      ]
    },
    {
      "cell_type": "code",
      "source": [
        "from torch.optim import SGD\n",
        "\n",
        "opt = SGD(mynet.parameters(), lr=0.001)"
      ],
      "metadata": {
        "id": "3Z8eWvZDtzJk"
      },
      "execution_count": 190,
      "outputs": []
    },
    {
      "cell_type": "code",
      "source": [
        "opt.zero_grad() # flush previous epoch's gradients\n",
        "loss_value = loss(mynet(X), Y)\n",
        "loss_value.backward() # Backpropagation\n",
        "opt.step() # Update weights"
      ],
      "metadata": {
        "id": "5M_OuDfcuohk"
      },
      "execution_count": 191,
      "outputs": []
    },
    {
      "cell_type": "code",
      "source": [
        "loss_history = []\n",
        "\n",
        "# 50 epochs\n",
        "for _ in range(50):\n",
        "  opt.zero_grad()\n",
        "  loss_value = loss(mynet(X), Y)\n",
        "  loss_value.backward()\n",
        "  opt.step()\n",
        "\n",
        "  loss_history.append(loss_value.item())"
      ],
      "metadata": {
        "id": "JIWb8Wgru9_Y"
      },
      "execution_count": 192,
      "outputs": []
    },
    {
      "cell_type": "code",
      "source": [
        "import matplotlib.pyplot as plt\n",
        "%matplotlib inline\n",
        "\n",
        "plt.plot(loss_history)\n",
        "plt.title('Loss over epochs')\n",
        "plt.xlabel('Epochs')\n",
        "plt.ylabel('Loss')"
      ],
      "metadata": {
        "colab": {
          "base_uri": "https://localhost:8080/",
          "height": 489
        },
        "id": "rAw0aJdDvQEh",
        "outputId": "4cf2dae2-b0e3-4c6d-bdf9-df12b0ea80d3"
      },
      "execution_count": 193,
      "outputs": [
        {
          "output_type": "execute_result",
          "data": {
            "text/plain": [
              "Text(0, 0.5, 'Loss')"
            ]
          },
          "metadata": {},
          "execution_count": 193
        },
        {
          "output_type": "display_data",
          "data": {
            "text/plain": [
              "<Figure size 640x480 with 1 Axes>"
            ],
            "image/png": "[encoded data removed]"
          },
          "metadata": {}
        }
      ]
    },
    {
      "cell_type": "markdown",
      "source": [
        "# Specifying Batch Sizes"
      ],
      "metadata": {
        "id": "tL1YkzTLyx7c"
      }
    },
    {
      "cell_type": "code",
      "source": [
        "from torch.utils.data import Dataset, DataLoader\n",
        "\n",
        "class MyDataset(Dataset):\n",
        "  def __init__(self, x, y):\n",
        "    self.x = torch.tensor(x).float()\n",
        "    self.y = torch.tensor(y).float()\n",
        "\n",
        "  def __len__(self):\n",
        "    return len(self.x)\n",
        "\n",
        "  def __getitem__(self, index):\n",
        "    return self.x[index], self.y[index]"
      ],
      "metadata": {
        "id": "m6-1Ri-Wy0LK"
      },
      "execution_count": 194,
      "outputs": []
    },
    {
      "cell_type": "code",
      "source": [
        "x = [[1,2],[3,4],[5,6],[7,8]]\n",
        "y = [[3],[7],[11],[15]]\n",
        "\n",
        "X = torch.tensor(x).float().to(device)\n",
        "Y = torch.tensor(y).float().to(device)"
      ],
      "metadata": {
        "id": "-Fye4idNzhmO"
      },
      "execution_count": 195,
      "outputs": []
    },
    {
      "cell_type": "code",
      "source": [
        "ds = MyDataset(X, Y)"
      ],
      "metadata": {
        "colab": {
          "base_uri": "https://localhost:8080/"
        },
        "id": "lo0xz9avzYbg",
        "outputId": "9eed2cce-cd5a-4b29-ba2b-568127814b10"
      },
      "execution_count": 196,
      "outputs": [
        {
          "output_type": "stream",
          "name": "stderr",
          "text": [
            "/tmp/ipython-input-2707257633.py:5: UserWarning: To copy construct from a tensor, it is recommended to use sourceTensor.clone().detach() or sourceTensor.clone().detach().requires_grad_(True), rather than torch.tensor(sourceTensor).\n",
            "  self.x = torch.tensor(x).float()\n",
            "/tmp/ipython-input-2707257633.py:6: UserWarning: To copy construct from a tensor, it is recommended to use sourceTensor.clone().detach() or sourceTensor.clone().detach().requires_grad_(True), rather than torch.tensor(sourceTensor).\n",
            "  self.y = torch.tensor(y).float()\n"
          ]
        }
      ]
    },
    {
      "cell_type": "code",
      "source": [
        "dl = DataLoader(ds, batch_size=2, shuffle=True)"
      ],
      "metadata": {
        "id": "AlbkqXjczbkG"
      },
      "execution_count": 197,
      "outputs": []
    },
    {
      "cell_type": "code",
      "source": [
        "for x,y in dl:\n",
        "  print(x, y)"
      ],
      "metadata": {
        "colab": {
          "base_uri": "https://localhost:8080/"
        },
        "id": "cI4ZVlZQz1iN",
        "outputId": "c3e7d9b7-1133-40b7-e61f-8660971bde35"
      },
      "execution_count": 198,
      "outputs": [
        {
          "output_type": "stream",
          "name": "stdout",
          "text": [
            "tensor([[7., 8.],\n",
            "        [1., 2.]], device='cuda:0') tensor([[15.],\n",
            "        [ 3.]], device='cuda:0')\n",
            "tensor([[3., 4.],\n",
            "        [5., 6.]], device='cuda:0') tensor([[ 7.],\n",
            "        [11.]], device='cuda:0')\n"
          ]
        }
      ]
    },
    {
      "cell_type": "code",
      "source": [
        "mynet = MyNeuralNet().to(device)\n",
        "loss = nn.MSELoss()\n",
        "opt = SGD(mynet.parameters(), lr=0.001)"
      ],
      "metadata": {
        "id": "PTDiEtIJ0lQi"
      },
      "execution_count": 199,
      "outputs": []
    },
    {
      "cell_type": "code",
      "source": [
        "import time\n",
        "\n",
        "loss_history = []\n",
        "start = time.time()\n",
        "\n",
        "for _ in range(100):\n",
        "  for data in dl:\n",
        "    x, y = data\n",
        "\n",
        "    opt.zero_grad()\n",
        "    loss_value = loss(mynet(x), y)\n",
        "    loss_value.backward()\n",
        "    opt.step()\n",
        "\n",
        "    loss_history.append(loss_value.item())\n",
        "\n",
        "end = time.time()\n",
        "\n",
        "print(end - start)"
      ],
      "metadata": {
        "colab": {
          "base_uri": "https://localhost:8080/"
        },
        "id": "PFmLbJbA0DHE",
        "outputId": "c4687266-ef85-43a5-dd2a-5ebbd927ea25"
      },
      "execution_count": 200,
      "outputs": [
        {
          "output_type": "stream",
          "name": "stdout",
          "text": [
            "0.25365400314331055\n"
          ]
        }
      ]
    },
    {
      "cell_type": "markdown",
      "source": [
        "# Predicting on new data"
      ],
      "metadata": {
        "id": "yrTyAdkV10Hy"
      }
    },
    {
      "cell_type": "code",
      "source": [
        "val_x = [[10, 11]]\n",
        "\n",
        "val_x = torch.tensor(val_x).float().to(device)"
      ],
      "metadata": {
        "id": "8xbVYreP0c_0"
      },
      "execution_count": 201,
      "outputs": []
    },
    {
      "cell_type": "code",
      "source": [
        "mynet(val_x)"
      ],
      "metadata": {
        "colab": {
          "base_uri": "https://localhost:8080/"
        },
        "id": "VokWbR5j18pQ",
        "outputId": "18a635b5-952b-402c-d153-e28c6e74301f"
      },
      "execution_count": 202,
      "outputs": [
        {
          "output_type": "execute_result",
          "data": {
            "text/plain": [
              "tensor([[20.8813]], device='cuda:0', grad_fn=<AddmmBackward0>)"
            ]
          },
          "metadata": {},
          "execution_count": 202
        }
      ]
    },
    {
      "cell_type": "markdown",
      "source": [
        "# Creating a custom loss function"
      ],
      "metadata": {
        "id": "jah3QCbx2OdY"
      }
    },
    {
      "cell_type": "code",
      "source": [
        "# mse\n",
        "def my_mse(_y, y):\n",
        "  loss = (_y-y)**2\n",
        "  loss = loss.mean()\n",
        "\n",
        "  return loss"
      ],
      "metadata": {
        "id": "gDmJeM0m2NQc"
      },
      "execution_count": 203,
      "outputs": []
    },
    {
      "cell_type": "code",
      "source": [
        "loss_value_std = loss(mynet(x), y)\n",
        "loss_value_custom = my_mse(mynet(x), y)\n",
        "print(loss_value_std, loss_value_custom)"
      ],
      "metadata": {
        "colab": {
          "base_uri": "https://localhost:8080/"
        },
        "id": "CQmhjO5o2ZTY",
        "outputId": "be48d049-f6aa-4f9d-f81a-99d336d696c8"
      },
      "execution_count": 204,
      "outputs": [
        {
          "output_type": "stream",
          "name": "stdout",
          "text": [
            "tensor(0.0032, device='cuda:0', grad_fn=<MseLossBackward0>) tensor(0.0032, device='cuda:0', grad_fn=<MeanBackward0>)\n"
          ]
        }
      ]
    },
    {
      "cell_type": "markdown",
      "source": [
        "# Fetching intermediate layer values"
      ],
      "metadata": {
        "id": "_vC5rORT26Jm"
      }
    },
    {
      "cell_type": "code",
      "source": [
        "input_to_hidden = mynet.input_to_hidden_layer(X)\n",
        "activation = mynet.hidden_layer_activation(input_to_hidden)\n",
        "\n",
        "activation"
      ],
      "metadata": {
        "colab": {
          "base_uri": "https://localhost:8080/"
        },
        "id": "0HLrcnzc27_B",
        "outputId": "ed29b90a-4cb2-4830-9e4a-5e9fdd984acb"
      },
      "execution_count": 205,
      "outputs": [
        {
          "output_type": "execute_result",
          "data": {
            "text/plain": [
              "tensor([[0.0000e+00, 0.0000e+00, 4.2031e-01, 0.0000e+00, 7.8764e-01, 0.0000e+00,\n",
              "         1.4280e+00, 2.0805e+00],\n",
              "        [0.0000e+00, 0.0000e+00, 2.8045e-01, 0.0000e+00, 9.3061e-01, 0.0000e+00,\n",
              "         2.8519e+00, 5.1680e+00],\n",
              "        [0.0000e+00, 0.0000e+00, 1.4059e-01, 0.0000e+00, 1.0736e+00, 0.0000e+00,\n",
              "         4.2758e+00, 8.2554e+00],\n",
              "        [0.0000e+00, 0.0000e+00, 7.3501e-04, 0.0000e+00, 1.2165e+00, 0.0000e+00,\n",
              "         5.6997e+00, 1.1343e+01]], device='cuda:0', grad_fn=<ReluBackward0>)"
            ]
          },
          "metadata": {},
          "execution_count": 205
        }
      ]
    }
  ]
}