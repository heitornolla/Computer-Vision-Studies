{
 "cells": [
  {
   "cell_type": "code",
   "execution_count": null,
   "id": "9393bed4",
   "metadata": {},
   "outputs": [],
   "source": [
    "import torch\n",
    "from torch import nn \n",
    "from torch import optim\n",
    "from PIL import Image\n",
    "\n",
    "from torchvision import transforms\n",
    "from torchvision import models\n",
    "from torchvision.utils import save_image\n",
    "\n",
    "model = models.vgg19(weights=models.VGG19_Weights.DEFAULT).features"
   ]
  },
  {
   "cell_type": "code",
   "execution_count": null,
   "id": "054c72fd",
   "metadata": {},
   "outputs": [],
   "source": [
    "print(model)\n",
    "\n",
    "# We want the conv layers, therefore 0, 5, 10, 19 and 28"
   ]
  },
  {
   "cell_type": "code",
   "execution_count": null,
   "id": "e3573a85",
   "metadata": {},
   "outputs": [],
   "source": [
    "class NST_VGG(nn.Module):\n",
    "    def __init__(self):\n",
    "        super().__init__()\n",
    "\n",
    "        self.chosen_features = ['0', '5', '10', '19', '28']\n",
    "        self.model = models.vgg19(weights=models.VGG19_Weights.DEFAULT).features[:29]\n",
    "\n",
    "    def forward(self, x):\n",
    "        features = []\n",
    "\n",
    "        for layer_num, layer in enumerate(self.model):\n",
    "            x = layer(x)\n",
    "\n",
    "            if str(layer_num) in self.chosen_features:\n",
    "                features.append(x)\n",
    "\n",
    "        return features\n"
   ]
  },
  {
   "cell_type": "code",
   "execution_count": null,
   "id": "7081d1bd",
   "metadata": {},
   "outputs": [],
   "source": [
    "img_size = 256\n",
    "\n",
    "device = torch.device('cuda' if torch.cuda.is_available() else 'cpu')\n",
    "loader = transforms.Compose(\n",
    "    [\n",
    "        transforms.CenterCrop(img_size),\n",
    "        transforms.ToTensor(),\n",
    "        # transforms.Normalize(mean=[], std=[])\n",
    "    ]\n",
    ")\n",
    "\n",
    "\n",
    "def load_image(img_name):\n",
    "    image = Image.open(img_name).convert('RGB')\n",
    "    image = loader(image).unsqueeze(0)\n",
    "    return image.to(device)"
   ]
  },
  {
   "cell_type": "code",
   "execution_count": null,
   "id": "7c7e737f",
   "metadata": {},
   "outputs": [],
   "source": [
    "original_img = load_image('/home/heitor/datasets/filter_network/train/original_images/bn48k_44039_11-00_r.png')\n",
    "style_img = load_image('/home/heitor/datasets/filter_network/train/output_cartoon/sd258_069_11-00_latent_bad.png')\n",
    "\n",
    "generated = original_img.clone().requires_grad_(True)\n"
   ]
  },
  {
   "cell_type": "code",
   "execution_count": null,
   "id": "7d6d3971",
   "metadata": {},
   "outputs": [],
   "source": [
    "model = NST_VGG().eval()\n",
    "model.to(device)\n",
    "\n",
    "total_steps = 6000\n",
    "lr = 1e-3\n",
    "alpha = 1\n",
    "beta = 0.01\n",
    "optimizer = optim.Adam([generated], lr=lr)"
   ]
  },
  {
   "cell_type": "code",
   "execution_count": null,
   "id": "7d812d49",
   "metadata": {},
   "outputs": [],
   "source": [
    "for step in range(total_steps):\n",
    "    generated_features = model(generated)\n",
    "    original_img_features = model(original_img)\n",
    "    style_features = model(style_img)\n",
    "\n",
    "    style_loss = original_loss = 0\n",
    "\n",
    "    for gen_feature, orig_feature, style_feature in zip(\n",
    "        generated_features, original_img_features, style_features\n",
    "    ):\n",
    "        batch_size, channel, height, width = gen_feature.shape\n",
    "        original_loss += torch.mean((gen_feature - orig_feature)**2)\n",
    "\n",
    "        G = gen_feature.view(channel, height*width).mm(\n",
    "            gen_feature.view(channel, height*width).t()\n",
    "        )\n",
    "\n",
    "        A = style_feature.view(channel, height*width).mm(\n",
    "            style_feature.view(channel, height*width).t()\n",
    "        )\n",
    "\n",
    "        style_loss += torch.mean((G - A)**2)\n",
    "    \n",
    "    total_loss = alpha*original_loss + beta*style_loss\n",
    "    optimizer.zero_grad()\n",
    "    total_loss.backward()\n",
    "    optimizer.step()\n",
    "\n",
    "    if step % 200 == 0:\n",
    "        print(total_loss.item())\n",
    "        save_image(generated, f'generated_{step}.png')"
   ]
  },
  {
   "cell_type": "code",
   "execution_count": null,
   "id": "164e789f",
   "metadata": {},
   "outputs": [],
   "source": [
    "import torch\n",
    "import torch.nn.functional as F\n",
    "import matplotlib.pyplot as plt\n",
    "from torchvision.utils import make_grid\n",
    "\n",
    "def visualize_features(feature_list, input_tensor, layer_names=None, topk=8):\n",
    "    H, W = input_tensor.shape[2:]\n",
    "    if layer_names is None:\n",
    "        layer_names = [f\"layer_{i}\" for i in range(len(feature_list))]\n",
    "\n",
    "    for idx, feat in enumerate(feature_list):\n",
    "        layer_name = layer_names[idx]\n",
    "        fmap = feat[0]\n",
    "\n",
    "        # Rank channels by mean absolute activation\n",
    "        scores = fmap.abs().mean(dim=(1,2))\n",
    "        top_idx = torch.topk(scores, min(topk, fmap.shape[0])).indices\n",
    "\n",
    "        # Upsample to input size for visualization\n",
    "        fmap_up = F.interpolate(fmap[top_idx].unsqueeze(1), size=(H, W), mode='bilinear', align_corners=False)\n",
    "\n",
    "        # Normalize for display\n",
    "        fmap_up = (fmap_up - fmap_up.min()) / (fmap_up.max() - fmap_up.min() + 1e-8)\n",
    "\n",
    "        grid = make_grid(fmap_up, nrow=4, normalize=False, pad_value=1.0)\n",
    "        plt.figure(figsize=(8, 6))\n",
    "        plt.imshow(grid.squeeze().permute(1,2,0).cpu().numpy(), interpolation='nearest')\n",
    "        plt.axis('off')\n",
    "        plt.title(f\"Top {len(top_idx)} channels from {layer_name}\")\n",
    "        plt.show()\n",
    "\n",
    "\n",
    "with torch.no_grad():\n",
    "    features = model(original_img)\n",
    "\n",
    "# Visualize\n",
    "visualize_features(\n",
    "    feature_list=features, \n",
    "    input_tensor=original_img,\n",
    "    layer_names=model.chosen_features,\n",
    "    topk=8  # number of feature maps per layer to plot\n",
    ")"
   ]
  }
 ],
 "metadata": {
  "kernelspec": {
   "display_name": "mo433",
   "language": "python",
   "name": "python3"
  },
  "language_info": {
   "codemirror_mode": {
    "name": "ipython",
    "version": 3
   },
   "file_extension": ".py",
   "mimetype": "text/x-python",
   "name": "python",
   "nbconvert_exporter": "python",
   "pygments_lexer": "ipython3",
   "version": "3.12.7"
  }
 },
 "nbformat": 4,
 "nbformat_minor": 5
}
