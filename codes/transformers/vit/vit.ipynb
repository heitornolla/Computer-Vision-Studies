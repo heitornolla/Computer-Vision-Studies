{
 "cells": [
  {
   "cell_type": "code",
   "execution_count": 76,
   "id": "3c821e86",
   "metadata": {},
   "outputs": [],
   "source": [
    "import torch\n",
    "import torch.nn as nn\n",
    "import torchvision\n",
    "import torchvision.transforms as transforms\n",
    "from torch.utils.data import DataLoader\n",
    "import matplotlib.pyplot as plt"
   ]
  },
  {
   "cell_type": "code",
   "execution_count": 77,
   "id": "00e543ff",
   "metadata": {},
   "outputs": [],
   "source": [
    "transformations = transforms.Compose([\n",
    "    transforms.ToTensor()\n",
    "])"
   ]
  },
  {
   "cell_type": "code",
   "execution_count": 78,
   "id": "3c1c6103",
   "metadata": {},
   "outputs": [],
   "source": [
    "batch_size = 64\n",
    "num_classes = 10\n",
    "num_channels = 1\n",
    "img_size = 28*28\n",
    "patch_size = 7\n",
    "num_patches = (28 // patch_size) ** 2  # 4x4 = 16 patches\n",
    "attention_heads = 4\n",
    "embedding_dim = 16\n",
    "transformer_blocks = 4\n",
    "mlp_nodes = 64"
   ]
  },
  {
   "cell_type": "code",
   "execution_count": 79,
   "id": "e62f4af4",
   "metadata": {},
   "outputs": [],
   "source": [
    "train_dataset = torchvision.datasets.MNIST(root='./data', train=True, download=True, transform=transformations)\n",
    "val_dataset = torchvision.datasets.MNIST(root='./data', train=False, download=True, transform=transformations)"
   ]
  },
  {
   "cell_type": "code",
   "execution_count": 80,
   "id": "2f94ef0c",
   "metadata": {},
   "outputs": [],
   "source": [
    "train_data = DataLoader(train_dataset, batch_size=batch_size, shuffle=True, drop_last=True)\n",
    "val_data = DataLoader(val_dataset, batch_size=batch_size, shuffle=True)"
   ]
  },
  {
   "cell_type": "code",
   "execution_count": 81,
   "id": "146c8f2e",
   "metadata": {},
   "outputs": [],
   "source": [
    "# Patch Embeddings - Part 1 of the ViT architecture\n",
    "\n",
    "class PatchEmbedding(nn.Module):\n",
    "    def __init__(self):\n",
    "        super().__init__()\n",
    "        self.patch_embed = nn.Conv2d(num_channels, embedding_dim, kernel_size=patch_size, stride=patch_size)\n",
    "\n",
    "    def forward(self, x):\n",
    "        x = self.patch_embed(x)\n",
    "        x = x.flatten(2)\n",
    "        x = x.transpose(1, 2)\n",
    "        \n",
    "        return x"
   ]
  },
  {
   "cell_type": "code",
   "execution_count": 82,
   "id": "6b164549",
   "metadata": {},
   "outputs": [],
   "source": [
    "# Transformer Encoder - Part 2 of the ViT archotecture\n",
    "\n",
    "class TransformerEncoder(nn.Module):\n",
    "    def __init__(self):\n",
    "        super().__init__()\n",
    "        self.layer_norm1 = nn.LayerNorm(embedding_dim)\n",
    "        self.mha = nn.MultiheadAttention(embedding_dim, attention_heads, batch_first=True)\n",
    "        self.layer_norm2 = nn.LayerNorm(embedding_dim)\n",
    "        self.mlp = nn.Sequential(\n",
    "            nn.Linear(embedding_dim, mlp_nodes),\n",
    "            nn.GELU(),\n",
    "            nn.Linear(mlp_nodes, embedding_dim)\n",
    "        )\n",
    "\n",
    "    def forward(self, x):\n",
    "        res1 = x\n",
    "        x = self.layer_norm1(x)\n",
    "\n",
    "        x = self.mha(x, x, x)[0] + res1\n",
    "        res2 = x\n",
    "\n",
    "        x = self.layer_norm2(x)\n",
    "        x = self.mlp(x) + res2\n",
    "\n",
    "        return x\n"
   ]
  },
  {
   "cell_type": "code",
   "execution_count": 83,
   "id": "1c811c84",
   "metadata": {},
   "outputs": [],
   "source": [
    "# class for MLP Head for Classification - Part 3 of the ViT architecture\n",
    "\n",
    "class MLP_Head(nn.Module):\n",
    "    def __init__(self):\n",
    "        super().__init__()\n",
    "        self.layer_norm = nn.LayerNorm(embedding_dim)\n",
    "        self.mlp_head = nn.Sequential(\n",
    "            nn.Linear(embedding_dim, num_classes)\n",
    "        )\n",
    "\n",
    "    def forward(self, x):\n",
    "        x = self.layer_norm(x)\n",
    "        x = self.mlp_head(x)\n",
    "\n",
    "        return x"
   ]
  },
  {
   "cell_type": "code",
   "execution_count": 84,
   "id": "69c93a14",
   "metadata": {},
   "outputs": [],
   "source": [
    "class VisionTransformer(nn.Module):\n",
    "    def __init__(self):\n",
    "        super().__init__()\n",
    "        self.patch_embedding = PatchEmbedding()\n",
    "        self.cls_token = nn.Parameter(torch.randn(1, 1, embedding_dim))\n",
    "        self.position_embedding = nn.Parameter(torch.randn(1, int(num_patches+1), embedding_dim))\n",
    "        self.transformer_blocks = nn.Sequential(*[TransformerEncoder() for _ in range (transformer_blocks)])\n",
    "        self.mlp_head = MLP_Head()\n",
    "\n",
    "    def forward(self, x):\n",
    "        x = self.patch_embedding(x)\n",
    "        \n",
    "        B = x.shape[0]\n",
    "        cls_tokens = self.cls_token.expand(B, -1, -1)\n",
    "        x = torch.cat((cls_tokens, x), dim=1)\n",
    "        \n",
    "        x = x + self.position_embedding\n",
    "        \n",
    "        x = self.transformer_blocks(x)\n",
    "        x = x[:, 0]\n",
    "        x = self.mlp_head(x)\n",
    "        \n",
    "        return x"
   ]
  },
  {
   "cell_type": "code",
   "execution_count": 85,
   "id": "50db9a12",
   "metadata": {},
   "outputs": [],
   "source": [
    "device = torch.device(\"cuda\" if torch.cuda.is_available() else \"cpu\")\n",
    "model = VisionTransformer().to(device)\n",
    "optimizer = torch.optim.Adam(model.parameters(), lr=1e-3)\n",
    "criterion = nn.CrossEntropyLoss()"
   ]
  },
  {
   "cell_type": "code",
   "execution_count": 86,
   "id": "5ceab48c",
   "metadata": {},
   "outputs": [
    {
     "name": "stdout",
     "output_type": "stream",
     "text": [
      "\n",
      "Epoch 1\n",
      "  Batch   1: Loss = 2.5109, Accuracy = 10.94%\n",
      "  Batch 101: Loss = 1.5755, Accuracy = 43.75%\n",
      "  Batch 201: Loss = 0.8841, Accuracy = 70.31%\n",
      "  Batch 301: Loss = 0.6365, Accuracy = 81.25%\n",
      "  Batch 401: Loss = 0.5943, Accuracy = 84.38%\n",
      "  Batch 501: Loss = 0.4890, Accuracy = 89.06%\n",
      "  Batch 601: Loss = 0.3389, Accuracy = 89.06%\n",
      "  Batch 701: Loss = 0.4361, Accuracy = 90.62%\n",
      "  Batch 801: Loss = 0.1914, Accuracy = 93.75%\n",
      "  Batch 901: Loss = 0.0882, Accuracy = 100.00%\n",
      "==> Epoch 1 Summary: Total Loss = 631.8480, Accuracy = 79.15%\n",
      "\n",
      "Epoch 2\n",
      "  Batch   1: Loss = 0.2488, Accuracy = 90.62%\n",
      "  Batch 101: Loss = 0.3308, Accuracy = 89.06%\n",
      "  Batch 201: Loss = 0.2388, Accuracy = 89.06%\n",
      "  Batch 301: Loss = 0.1652, Accuracy = 95.31%\n",
      "  Batch 401: Loss = 0.3115, Accuracy = 85.94%\n",
      "  Batch 501: Loss = 0.2185, Accuracy = 96.88%\n",
      "  Batch 601: Loss = 0.0735, Accuracy = 98.44%\n",
      "  Batch 701: Loss = 0.2592, Accuracy = 95.31%\n",
      "  Batch 801: Loss = 0.1939, Accuracy = 95.31%\n",
      "  Batch 901: Loss = 0.2086, Accuracy = 92.19%\n",
      "==> Epoch 2 Summary: Total Loss = 204.8566, Accuracy = 93.50%\n",
      "\n",
      "Epoch 3\n",
      "  Batch   1: Loss = 0.2242, Accuracy = 92.19%\n",
      "  Batch 101: Loss = 0.2330, Accuracy = 90.62%\n",
      "  Batch 201: Loss = 0.1918, Accuracy = 95.31%\n",
      "  Batch 301: Loss = 0.1515, Accuracy = 96.88%\n",
      "  Batch 401: Loss = 0.3110, Accuracy = 95.31%\n",
      "  Batch 501: Loss = 0.2473, Accuracy = 90.62%\n",
      "  Batch 601: Loss = 0.2700, Accuracy = 89.06%\n",
      "  Batch 701: Loss = 0.0952, Accuracy = 96.88%\n",
      "  Batch 801: Loss = 0.0211, Accuracy = 100.00%\n",
      "  Batch 901: Loss = 0.2368, Accuracy = 92.19%\n",
      "==> Epoch 3 Summary: Total Loss = 159.3963, Accuracy = 94.93%\n",
      "\n",
      "Epoch 4\n",
      "  Batch   1: Loss = 0.2596, Accuracy = 93.75%\n",
      "  Batch 101: Loss = 0.1802, Accuracy = 93.75%\n",
      "  Batch 201: Loss = 0.1679, Accuracy = 95.31%\n",
      "  Batch 301: Loss = 0.2775, Accuracy = 90.62%\n",
      "  Batch 401: Loss = 0.2101, Accuracy = 93.75%\n",
      "  Batch 501: Loss = 0.1005, Accuracy = 96.88%\n",
      "  Batch 601: Loss = 0.0240, Accuracy = 100.00%\n",
      "  Batch 701: Loss = 0.1183, Accuracy = 93.75%\n",
      "  Batch 801: Loss = 0.3243, Accuracy = 90.62%\n",
      "  Batch 901: Loss = 0.2258, Accuracy = 92.19%\n",
      "==> Epoch 4 Summary: Total Loss = 132.8219, Accuracy = 95.65%\n",
      "\n",
      "Epoch 5\n",
      "  Batch   1: Loss = 0.1443, Accuracy = 93.75%\n",
      "  Batch 101: Loss = 0.1777, Accuracy = 95.31%\n",
      "  Batch 201: Loss = 0.1296, Accuracy = 96.88%\n",
      "  Batch 301: Loss = 0.0487, Accuracy = 98.44%\n",
      "  Batch 401: Loss = 0.0903, Accuracy = 98.44%\n",
      "  Batch 501: Loss = 0.1850, Accuracy = 92.19%\n",
      "  Batch 601: Loss = 0.1295, Accuracy = 95.31%\n",
      "  Batch 701: Loss = 0.1081, Accuracy = 96.88%\n",
      "  Batch 801: Loss = 0.0361, Accuracy = 98.44%\n",
      "  Batch 901: Loss = 0.2732, Accuracy = 93.75%\n",
      "==> Epoch 5 Summary: Total Loss = 116.7958, Accuracy = 96.17%\n"
     ]
    }
   ],
   "source": [
    "for epoch in range(5):\n",
    "    model.train()\n",
    "    total_loss = 0\n",
    "    correct_epoch = 0\n",
    "    total_epoch = 0\n",
    "    print(f\"\\nEpoch {epoch+1}\")\n",
    "\n",
    "    for batch_idx, (images, labels) in enumerate(train_data):\n",
    "        images, labels = images.to(device), labels.to(device)\n",
    "        optimizer.zero_grad()\n",
    "        outputs = model(images)\n",
    "\n",
    "        loss = criterion(outputs, labels)\n",
    "        loss.backward()\n",
    "        optimizer.step()\n",
    "\n",
    "        total_loss+=loss.item()\n",
    "        preds = outputs.argmax(dim=1)\n",
    "\n",
    "        correct = (preds == labels).sum().item()\n",
    "        accuracy = 100.0 * correct / labels.size(0)\n",
    "\n",
    "        correct_epoch += correct\n",
    "        total_epoch += labels.size(0)\n",
    "\n",
    "        if batch_idx % 100 == 0:\n",
    "            print(f\"  Batch {batch_idx+1:3d}: Loss = {loss.item():.4f}, Accuracy = {accuracy:.2f}%\")\n",
    "\n",
    "    epoch_acc = 100.0 * correct_epoch / total_epoch\n",
    "    print(f\"==> Epoch {epoch+1} Summary: Total Loss = {total_loss:.4f}, Accuracy = {epoch_acc:.2f}%\")"
   ]
  },
  {
   "cell_type": "code",
   "execution_count": 87,
   "id": "2f70d9a5",
   "metadata": {},
   "outputs": [
    {
     "name": "stdout",
     "output_type": "stream",
     "text": [
      "\n",
      "==> Val Accuracy: 95.75%\n"
     ]
    }
   ],
   "source": [
    "model.eval()\n",
    "correct = 0\n",
    "total = 0\n",
    "\n",
    "with torch.no_grad():\n",
    "    for images, labels in val_data:\n",
    "        images, labels = images.to(device), labels.to(device)\n",
    "        outputs = model(images)\n",
    "        preds = outputs.argmax(dim=1)\n",
    "        correct += (preds == labels).sum().item()\n",
    "        total += labels.size(0)\n",
    "\n",
    "test_acc = 100.0 * correct / total\n",
    "print(f\"\\n==> Val Accuracy: {test_acc:.2f}%\")\n"
   ]
  },
  {
   "cell_type": "code",
   "execution_count": null,
   "id": "c48b4f27",
   "metadata": {},
   "outputs": [
    {
     "data": {
      "image/png": "[encoded data removed]",
      "text/plain": [
       "<Figure size 1200x400 with 20 Axes>"
      ]
     },
     "metadata": {},
     "output_type": "display_data"
    }
   ],
   "source": [
    "model.eval()\n",
    "images, labels = next(iter(val_data))\n",
    "images, labels = images.to(device), labels.to(device)\n",
    "\n",
    "with torch.no_grad():\n",
    "    outputs = model(images)\n",
    "    preds = outputs.argmax(dim=1)\n",
    "\n",
    "plt.figure(figsize=(12, 4))\n",
    "for i in range(20):\n",
    "    plt.subplot(4, 5, i+1)\n",
    "    plt.imshow(images[i].cpu().squeeze(), cmap='gray')\n",
    "    plt.title(f\"Pred: {preds[i].item()}\\nTrue: {labels[i].item()}\")\n",
    "    plt.axis('off')\n",
    "plt.tight_layout()\n",
    "plt.show()"
   ]
  }
 ],
 "metadata": {
  "kernelspec": {
   "display_name": "mo433",
   "language": "python",
   "name": "python3"
  },
  "language_info": {
   "codemirror_mode": {
    "name": "ipython",
    "version": 3
   },
   "file_extension": ".py",
   "mimetype": "text/x-python",
   "name": "python",
   "nbconvert_exporter": "python",
   "pygments_lexer": "ipython3",
   "version": "3.12.7"
  }
 },
 "nbformat": 4,
 "nbformat_minor": 5
}
